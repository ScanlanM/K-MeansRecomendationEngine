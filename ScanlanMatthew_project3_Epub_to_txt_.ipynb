{
 "cells": [
  {
   "cell_type": "code",
   "execution_count": 1,
   "id": "20503812-4d61-47fa-8001-2469e14202c6",
   "metadata": {},
   "outputs": [],
   "source": [
    "from pathlib import PureWindowsPath\n",
    "from random import shuffle\n",
    "from re import sub\n",
    "from glob import glob\n",
    "from os.path import basename, mkdir\n",
    "from bs4 import BeautifulSoup as bs"
   ]
  },
  {
   "cell_type": "code",
   "execution_count": null,
   "id": "bf700cae-66c8-419a-8837-78439c475a3b",
   "metadata": {},
   "outputs": [],
   "source": [
    "#This ipynb processes Epub files that are not included in the GitHub Repo as I do not have permission to republish the original works\n",
    "#The files included have been converted to .txt and cleaned \n",
    "#the content was shuffled to simulate real life text documents "
   ]
  },
  {
   "cell_type": "code",
   "execution_count": null,
   "id": "f4356b12-185a-42a3-a058-696a49471d46",
   "metadata": {},
   "outputs": [],
   "source": [
    "def extract_content(fullpath,bookname,chapter,shufflefilepathlist):\n",
    "    with open(fullpath,'r',encoding=\"UTF-8\") as f:\n",
    "        a = f.read()\n",
    "        soup = bs(a)\n",
    "    content=''\n",
    "    with open('extractandshuffle/'+bookname+chapter,'w+',encoding=\"UTF-8\") as n:\n",
    "        shufflefilepathlist.append('extractandshuffle/'+bookname+chapter)\n",
    "        for a in soup.find_all(\"p\"):\n",
    "            data=a.get_text()\n",
    "            data=sub('[^a-zA-Z \\']',\" \",data)\n",
    "            data=list(data.split(' '))\n",
    "            shuffle(data)\n",
    "            content =content+' '.join(word for word in data)\n",
    "        n.write(content)\n",
    "    return shufflefilepathlist"
   ]
  },
  {
   "cell_type": "code",
   "execution_count": null,
   "id": "15e85ed5-75ca-4953-839d-16cf32214d50",
   "metadata": {},
   "outputs": [],
   "source": [
    "files = glob.glob(\"extractandshuffle1\")\n",
    "files.pop(0)\n",
    "for x in range(len(files)):\n",
    "    f = PureWindowsPath(files[x])\n",
    "    files[x] = f.as_posix()  "
   ]
  },
  {
   "cell_type": "code",
   "execution_count": null,
   "id": "c261bbb7-e71a-48c2-ab91-fdba59e9f14d",
   "metadata": {
    "tags": []
   },
   "outputs": [],
   "source": [
    "filenames=[]\n",
    "for x in range(len(files)):\n",
    "    fn=basename(files[x])\n",
    "    fn=fn.replace('.xhtml','.txt')\n",
    "    filenames.append(fn)\n",
    "filenames[0]"
   ]
  },
  {
   "cell_type": "code",
   "execution_count": null,
   "id": "0d890a4a-a2c8-4ec0-8d44-3cf84bd752ef",
   "metadata": {},
   "outputs": [],
   "source": [
    "bookname=[]\n",
    "b=1\n",
    "bn=[]\n",
    "for x in files:\n",
    "    bn.append(x.split('/')[1])\n",
    "    \n",
    "for x in range(len(bn)):\n",
    "    if bn[x]== bn[x-1]:\n",
    "        book=\"_book_\"+str(b)+'_'\n",
    "    else:\n",
    "        b+=1\n",
    "        book=\"_book_\"+str(b)+'_'\n",
    "    bookname.append(book)"
   ]
  },
  {
   "cell_type": "code",
   "execution_count": null,
   "id": "87ae43b0-0221-4bcd-ba18-f68cd0a05356",
   "metadata": {},
   "outputs": [],
   "source": [
    "try:\n",
    "    mkdir('extractandshuffle')\n",
    "except:\n",
    "    pass"
   ]
  },
  {
   "cell_type": "code",
   "execution_count": null,
   "id": "2fc07048-7fa1-4ad1-b9bc-4957098c12cf",
   "metadata": {},
   "outputs": [],
   "source": [
    "shufflefilepathlist=[]\n",
    "from itertools import zip_longest as zipp\n",
    "for (x,y,z) in zipp(files,bookname,filenames):\n",
    "    shufflefilepathlist = extract_content(x,y,z,shufflefilepathlist)"
   ]
  }
 ],
 "metadata": {
  "kernelspec": {
   "display_name": "Python 3 (ipykernel)",
   "language": "python",
   "name": "python3"
  },
  "language_info": {
   "codemirror_mode": {
    "name": "ipython",
    "version": 3
   },
   "file_extension": ".py",
   "mimetype": "text/x-python",
   "name": "python",
   "nbconvert_exporter": "python",
   "pygments_lexer": "ipython3",
   "version": "3.8.12"
  }
 },
 "nbformat": 4,
 "nbformat_minor": 5
}
